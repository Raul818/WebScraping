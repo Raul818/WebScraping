{
 "cells": [
  {
   "cell_type": "code",
   "execution_count": 55,
   "metadata": {
    "collapsed": true
   },
   "outputs": [],
   "source": [
    "import tweepy\n",
    "from tweepy import OAuthHandler\n",
    "from tweepy import Stream\n",
    "from tweepy.streaming import StreamListener\n",
    "import time\n",
    "import json\n",
    "import string\n",
    "import re\n",
    "from collections import Counter\n",
    "from nltk.corpus import stopwords\n",
    "from nltk.tokenize import word_tokenize\n",
    "from nltk.tokenize import TweetTokenizer\n",
    "from nltk.tokenize import casual, casual_tokenize\n",
    "from nltk import bigrams\n",
    "\n",
    "from wordcloud import WordCloud, STOPWORDS\n",
    "import matplotlib.pyplot as plt"
   ]
  },
  {
   "cell_type": "code",
   "execution_count": 3,
   "metadata": {
    "collapsed": true
   },
   "outputs": [],
   "source": [
    "consumer_key = 'WxNCHN3AZKIbby85LE0FRn52h'\n",
    "consumer_secret = 'sWuF83Pianv1Vm9R0txN34DROWFzJGpUZfQz673RytxhRRwEtL'\n",
    "access_token = '975767174-qFHaY394JvFX8DbgKmq2cSQjsl1Cxhl1AuggDokq'\n",
    "access_secret = '5eV3SHTA0HU7i7USSwxpspoqSk2sW6Ip7VBXqOgMLxsF9'"
   ]
  },
  {
   "cell_type": "code",
   "execution_count": 4,
   "metadata": {
    "collapsed": true
   },
   "outputs": [],
   "source": [
    "auth = OAuthHandler(consumer_key, consumer_secret)\n",
    "auth.set_access_token(access_token,access_secret)\n",
    "api = tweepy.API(auth)"
   ]
  },
  {
   "cell_type": "code",
   "execution_count": 5,
   "metadata": {
    "collapsed": false
   },
   "outputs": [
    {
     "name": "stdout",
     "output_type": "stream",
     "text": [
      "RT @IndianNazi: #AdarshLiberal  i dont say u r bad or good, just answer one question if u have guts &amp; all will know truth  - why u want to…\n",
      "#INDvENG @YUVSTRONG12, Rishabh Pant in @imVkohli-led squads https://t.co/dnjLRe3jPv via @TOISportsNews https://t.co/llUF4W81lE\n"
     ]
    }
   ],
   "source": [
    "#Reading Own Timeline\n",
    "for status in tweepy.Cursor(api.home_timeline).items(2):\n",
    "    print(status.text)"
   ]
  },
  {
   "cell_type": "code",
   "execution_count": 6,
   "metadata": {
    "collapsed": false
   },
   "outputs": [
    {
     "name": "stdout",
     "output_type": "stream",
     "text": [
      "{'source': '<a href=\"http://twitter.com\" rel=\"nofollow\">Twitter Web Client</a>', 'coordinates': None, 'favorite_count': 0, 'is_quote_status': False, 'text': 'RT @IndianNazi: #AdarshLiberal  i dont say u r bad or good, just answer one question if u have guts &amp; all will know truth  - why u want to…', 'id_str': '817332335003729920', 'in_reply_to_user_id_str': None, 'created_at': 'Fri Jan 06 11:29:48 +0000 2017', 'retweet_count': 6, 'geo': None, 'in_reply_to_status_id_str': None, 'retweeted': False, 'favorited': False, 'in_reply_to_user_id': None, 'entities': {'hashtags': [{'indices': [16, 30], 'text': 'AdarshLiberal'}], 'user_mentions': [{'indices': [3, 14], 'screen_name': 'IndianNazi', 'id_str': '3071679078', 'name': 'Indian Nazi', 'id': 3071679078}], 'urls': [], 'symbols': []}, 'in_reply_to_screen_name': None, 'id': 817332335003729920, 'user': {'profile_banner_url': 'https://pbs.twimg.com/profile_banners/3071679078/1439984477', 'description': 'Jinhe naz hai India par', 'contributors_enabled': False, 'following': True, 'favourites_count': 23, 'translator_type': 'none', 'utc_offset': None, 'id_str': '3071679078', 'listed_count': 59, 'created_at': 'Tue Mar 10 17:08:16 +0000 2015', 'profile_background_color': '000000', 'screen_name': 'IndianNazi', 'follow_request_sent': False, 'profile_sidebar_fill_color': '000000', 'profile_text_color': '000000', 'default_profile': False, 'statuses_count': 633, 'url': None, 'profile_image_url': 'http://pbs.twimg.com/profile_images/575343212421763073/UIHx7TuG_normal.jpeg', 'time_zone': None, 'friends_count': 0, 'entities': {'description': {'urls': []}}, 'profile_use_background_image': False, 'profile_background_image_url_https': 'https://abs.twimg.com/images/themes/theme1/bg.png', 'profile_background_tile': False, 'profile_sidebar_border_color': '000000', 'protected': False, 'profile_background_image_url': 'http://abs.twimg.com/images/themes/theme1/bg.png', 'has_extended_profile': True, 'id': 3071679078, 'profile_link_color': 'FA743E', 'verified': False, 'location': '', 'default_profile_image': False, 'is_translator': False, 'geo_enabled': False, 'followers_count': 9055, 'profile_image_url_https': 'https://pbs.twimg.com/profile_images/575343212421763073/UIHx7TuG_normal.jpeg', 'notifications': False, 'name': 'Indian Nazi', 'lang': 'en', 'is_translation_enabled': False}, 'place': None, 'lang': 'en', 'in_reply_to_status_id': None, 'contributors': None, 'truncated': False, 'retweeted_status': {'source': '<a href=\"http://twitter.com/download/android\" rel=\"nofollow\">Twitter for Android</a>', 'coordinates': None, 'favorite_count': 7, 'is_quote_status': False, 'text': '#AdarshLiberal  i dont say u r bad or good, just answer one question if u have guts &amp; all will know truth  - why u want to destroy country?', 'id_str': '575659729336147968', 'in_reply_to_user_id_str': None, 'created_at': 'Wed Mar 11 14:09:09 +0000 2015', 'favorited': False, 'retweet_count': 6, 'geo': None, 'in_reply_to_status_id_str': None, 'retweeted': False, 'in_reply_to_user_id': None, 'entities': {'hashtags': [{'indices': [0, 14], 'text': 'AdarshLiberal'}], 'user_mentions': [], 'urls': [], 'symbols': []}, 'in_reply_to_screen_name': None, 'id': 575659729336147968, 'user': {'profile_banner_url': 'https://pbs.twimg.com/profile_banners/3071679078/1439984477', 'description': 'Jinhe naz hai India par', 'contributors_enabled': False, 'following': True, 'favourites_count': 23, 'translator_type': 'none', 'utc_offset': None, 'id_str': '3071679078', 'listed_count': 59, 'created_at': 'Tue Mar 10 17:08:16 +0000 2015', 'profile_background_color': '000000', 'screen_name': 'IndianNazi', 'follow_request_sent': False, 'profile_sidebar_fill_color': '000000', 'profile_text_color': '000000', 'default_profile': False, 'statuses_count': 633, 'url': None, 'profile_image_url': 'http://pbs.twimg.com/profile_images/575343212421763073/UIHx7TuG_normal.jpeg', 'time_zone': None, 'friends_count': 0, 'entities': {'description': {'urls': []}}, 'profile_use_background_image': False, 'profile_background_image_url_https': 'https://abs.twimg.com/images/themes/theme1/bg.png', 'profile_background_tile': False, 'profile_sidebar_border_color': '000000', 'protected': False, 'profile_background_image_url': 'http://abs.twimg.com/images/themes/theme1/bg.png', 'has_extended_profile': True, 'id': 3071679078, 'profile_link_color': 'FA743E', 'verified': False, 'location': '', 'default_profile_image': False, 'is_translator': False, 'geo_enabled': False, 'followers_count': 9055, 'profile_image_url_https': 'https://pbs.twimg.com/profile_images/575343212421763073/UIHx7TuG_normal.jpeg', 'notifications': False, 'name': 'Indian Nazi', 'lang': 'en', 'is_translation_enabled': False}, 'place': None, 'lang': 'en', 'in_reply_to_status_id': None, 'contributors': None, 'truncated': False}}\n"
     ]
    }
   ],
   "source": [
    "#Reading own timeline-- JSON\n",
    "for status in tweepy.Cursor(api.home_timeline).items(1):\n",
    "    print(status._json)"
   ]
  },
  {
   "cell_type": "code",
   "execution_count": 7,
   "metadata": {
    "collapsed": false
   },
   "outputs": [],
   "source": [
    "#Streaming (All the tweets with #Kaggle hashtag:\n",
    "\n",
    "class MyListener(StreamListener):\n",
    "    def __init__(self, time_limit=60):\n",
    "        self.start_time = time.time()\n",
    "        self.limit = time_limit\n",
    "        self.saveFile = open('python.json', 'a')\n",
    "        super(MyListener, self).__init__()\n",
    "\n",
    "    def on_data(self, data):\n",
    "        if (time.time() - self.start_time) < self.limit:\n",
    "            self.saveFile.write(data)\n",
    "            return True\n",
    "        else:\n",
    "            self.saveFile.close()\n",
    "            return False"
   ]
  },
  {
   "cell_type": "code",
   "execution_count": 22,
   "metadata": {
    "collapsed": false
   },
   "outputs": [],
   "source": [
    "twitter_stream = Stream(auth, MyListener(time_limit = 20))\n",
    "twitter_stream.filter(track=['Trump'])"
   ]
  },
  {
   "cell_type": "code",
   "execution_count": 23,
   "metadata": {
    "collapsed": false
   },
   "outputs": [
    {
     "name": "stdout",
     "output_type": "stream",
     "text": [
      "{\n",
      "   \"source\": \"<a href=\\\"http://twitter.com/download/android\\\" rel=\\\"nofollow\\\">Twitter for Android</a>\",\n",
      "   \"coordinates\": null,\n",
      "   \"favorite_count\": 0,\n",
      "   \"is_quote_status\": true,\n",
      "   \"text\": \"@Evan_McMullin @ananavarro   Shouldn't the man elected President care about the United States of America? https://t.co/Qr80dG63we\",\n",
      "   \"id_str\": \"817333854738399232\",\n",
      "   \"in_reply_to_user_id_str\": \"1051396218\",\n",
      "   \"created_at\": \"Fri Jan 06 11:35:50 +0000 2017\",\n",
      "   \"user\": {\n",
      "      \"profile_banner_url\": \"https://pbs.twimg.com/profile_banners/777671141452238848/1483320930\",\n",
      "      \"description\": \"#NeverTrump #NoDAPL TINN & WSH. Cussing is ok but will block locker room talk. Hunting for sport is chickenshit. I don't coddle.\",\n",
      "      \"contributors_enabled\": false,\n",
      "      \"following\": null,\n",
      "      \"favourites_count\": 7432,\n",
      "      \"utc_offset\": null,\n",
      "      \"id_str\": \"777671141452238848\",\n",
      "      \"listed_count\": 0,\n",
      "      \"created_at\": \"Mon Sep 19 00:50:23 +0000 2016\",\n",
      "      \"profile_background_color\": \"F5F8FA\",\n",
      "      \"screen_name\": \"KimberleAllen\",\n",
      "      \"follow_request_sent\": null,\n",
      "      \"profile_text_color\": \"333333\",\n",
      "      \"default_profile\": true,\n",
      "      \"statuses_count\": 2045,\n",
      "      \"url\": null,\n",
      "      \"profile_sidebar_fill_color\": \"DDEEF6\",\n",
      "      \"time_zone\": null,\n",
      "      \"friends_count\": 102,\n",
      "      \"profile_use_background_image\": true,\n",
      "      \"profile_background_image_url_https\": \"\",\n",
      "      \"profile_background_tile\": false,\n",
      "      \"profile_sidebar_border_color\": \"C0DEED\",\n",
      "      \"protected\": false,\n",
      "      \"profile_background_image_url\": \"\",\n",
      "      \"id\": 777671141452238848,\n",
      "      \"profile_link_color\": \"1DA1F2\",\n",
      "      \"verified\": false,\n",
      "      \"location\": null,\n",
      "      \"default_profile_image\": false,\n",
      "      \"is_translator\": false,\n",
      "      \"geo_enabled\": true,\n",
      "      \"followers_count\": 193,\n",
      "      \"profile_image_url_https\": \"https://pbs.twimg.com/profile_images/815734856046891008/H0SUreel_normal.jpg\",\n",
      "      \"profile_image_url\": \"http://pbs.twimg.com/profile_images/815734856046891008/H0SUreel_normal.jpg\",\n",
      "      \"name\": \"I don't do stupid\",\n",
      "      \"lang\": \"en\",\n",
      "      \"notifications\": null\n",
      "   },\n",
      "   \"quoted_status_id\": 817319827580796928,\n",
      "   \"retweet_count\": 0,\n",
      "   \"quoted_status_id_str\": \"817319827580796928\",\n",
      "   \"filter_level\": \"low\",\n",
      "   \"geo\": null,\n",
      "   \"in_reply_to_status_id_str\": null,\n",
      "   \"retweeted\": false,\n",
      "   \"favorited\": false,\n",
      "   \"in_reply_to_user_id\": 1051396218,\n",
      "   \"entities\": {\n",
      "      \"hashtags\": [],\n",
      "      \"urls\": [\n",
      "         {\n",
      "            \"indices\": [\n",
      "               106,\n",
      "               129\n",
      "            ],\n",
      "            \"display_url\": \"twitter.com/KimberleAllen/\\u2026\",\n",
      "            \"expanded_url\": \"https://twitter.com/KimberleAllen/status/817319827580796928\",\n",
      "            \"url\": \"https://t.co/Qr80dG63we\"\n",
      "         }\n",
      "      ],\n",
      "      \"symbols\": [],\n",
      "      \"user_mentions\": [\n",
      "         {\n",
      "            \"indices\": [\n",
      "               0,\n",
      "               14\n",
      "            ],\n",
      "            \"screen_name\": \"Evan_McMullin\",\n",
      "            \"id_str\": \"1051396218\",\n",
      "            \"name\": \"Evan McMullin\",\n",
      "            \"id\": 1051396218\n",
      "         },\n",
      "         {\n",
      "            \"indices\": [\n",
      "               15,\n",
      "               26\n",
      "            ],\n",
      "            \"screen_name\": \"ananavarro\",\n",
      "            \"id_str\": \"19568591\",\n",
      "            \"name\": \"Ana Navarro\",\n",
      "            \"id\": 19568591\n",
      "         }\n",
      "      ]\n",
      "   },\n",
      "   \"contributors\": null,\n",
      "   \"in_reply_to_screen_name\": \"Evan_McMullin\",\n",
      "   \"id\": 817333854738399232,\n",
      "   \"possibly_sensitive\": false,\n",
      "   \"timestamp_ms\": \"1483702550955\",\n",
      "   \"place\": null,\n",
      "   \"lang\": \"en\",\n",
      "   \"in_reply_to_status_id\": null,\n",
      "   \"quoted_status\": {\n",
      "      \"source\": \"<a href=\\\"http://twitter.com/download/android\\\" rel=\\\"nofollow\\\">Twitter for Android</a>\",\n",
      "      \"coordinates\": null,\n",
      "      \"favorite_count\": 0,\n",
      "      \"is_quote_status\": false,\n",
      "      \"text\": \"At Least 50 Trump Electors Were Illegitimately Seated as Electoral College Members @alternet https://t.co/RlTgyrJ2L8 @KimberleAllen\",\n",
      "      \"id_str\": \"817319827580796928\",\n",
      "      \"in_reply_to_user_id_str\": null,\n",
      "      \"created_at\": \"Fri Jan 06 10:40:06 +0000 2017\",\n",
      "      \"favorited\": false,\n",
      "      \"retweet_count\": 0,\n",
      "      \"filter_level\": \"low\",\n",
      "      \"geo\": null,\n",
      "      \"in_reply_to_status_id_str\": null,\n",
      "      \"retweeted\": false,\n",
      "      \"in_reply_to_user_id\": null,\n",
      "      \"entities\": {\n",
      "         \"hashtags\": [],\n",
      "         \"urls\": [\n",
      "            {\n",
      "               \"indices\": [\n",
      "                  93,\n",
      "                  116\n",
      "               ],\n",
      "               \"display_url\": \"alternet.org/election-2016/\\u2026\",\n",
      "               \"expanded_url\": \"http://www.alternet.org/election-2016/least-50-trump-electors-were-illegitimately-seated-electoral-college-members#.WG9z78fZBz4.twitter\",\n",
      "               \"url\": \"https://t.co/RlTgyrJ2L8\"\n",
      "            }\n",
      "         ],\n",
      "         \"symbols\": [],\n",
      "         \"user_mentions\": [\n",
      "            {\n",
      "               \"indices\": [\n",
      "                  83,\n",
      "                  92\n",
      "               ],\n",
      "               \"screen_name\": \"AlterNet\",\n",
      "               \"id_str\": \"18851248\",\n",
      "               \"name\": \"AlterNet\",\n",
      "               \"id\": 18851248\n",
      "            },\n",
      "            {\n",
      "               \"indices\": [\n",
      "                  117,\n",
      "                  131\n",
      "               ],\n",
      "               \"screen_name\": \"KimberleAllen\",\n",
      "               \"id_str\": \"777671141452238848\",\n",
      "               \"name\": \"I don't do stupid\",\n",
      "               \"id\": 777671141452238848\n",
      "            }\n",
      "         ]\n",
      "      },\n",
      "      \"in_reply_to_screen_name\": null,\n",
      "      \"id\": 817319827580796928,\n",
      "      \"possibly_sensitive\": false,\n",
      "      \"user\": {\n",
      "         \"profile_banner_url\": \"https://pbs.twimg.com/profile_banners/777671141452238848/1483320930\",\n",
      "         \"description\": \"#NeverTrump #NoDAPL TINN & WSH. Cussing is ok but will block locker room talk. Hunting for sport is chickenshit. I don't coddle.\",\n",
      "         \"contributors_enabled\": false,\n",
      "         \"following\": null,\n",
      "         \"favourites_count\": 7432,\n",
      "         \"utc_offset\": null,\n",
      "         \"id_str\": \"777671141452238848\",\n",
      "         \"listed_count\": 0,\n",
      "         \"created_at\": \"Mon Sep 19 00:50:23 +0000 2016\",\n",
      "         \"profile_background_color\": \"F5F8FA\",\n",
      "         \"screen_name\": \"KimberleAllen\",\n",
      "         \"follow_request_sent\": null,\n",
      "         \"profile_text_color\": \"333333\",\n",
      "         \"default_profile\": true,\n",
      "         \"statuses_count\": 2044,\n",
      "         \"url\": null,\n",
      "         \"profile_sidebar_fill_color\": \"DDEEF6\",\n",
      "         \"time_zone\": null,\n",
      "         \"friends_count\": 102,\n",
      "         \"profile_use_background_image\": true,\n",
      "         \"profile_background_image_url_https\": \"\",\n",
      "         \"profile_background_tile\": false,\n",
      "         \"profile_sidebar_border_color\": \"C0DEED\",\n",
      "         \"protected\": false,\n",
      "         \"profile_background_image_url\": \"\",\n",
      "         \"id\": 777671141452238848,\n",
      "         \"profile_link_color\": \"1DA1F2\",\n",
      "         \"verified\": false,\n",
      "         \"location\": null,\n",
      "         \"default_profile_image\": false,\n",
      "         \"is_translator\": false,\n",
      "         \"geo_enabled\": true,\n",
      "         \"followers_count\": 193,\n",
      "         \"profile_image_url_https\": \"https://pbs.twimg.com/profile_images/815734856046891008/H0SUreel_normal.jpg\",\n",
      "         \"profile_image_url\": \"http://pbs.twimg.com/profile_images/815734856046891008/H0SUreel_normal.jpg\",\n",
      "         \"name\": \"I don't do stupid\",\n",
      "         \"lang\": \"en\",\n",
      "         \"notifications\": null\n",
      "      },\n",
      "      \"place\": null,\n",
      "      \"lang\": \"en\",\n",
      "      \"in_reply_to_status_id\": null,\n",
      "      \"contributors\": null,\n",
      "      \"truncated\": false\n",
      "   },\n",
      "   \"display_text_range\": [\n",
      "      0,\n",
      "      105\n",
      "   ],\n",
      "   \"truncated\": false\n",
      "}\n"
     ]
    }
   ],
   "source": [
    "#Body of a tweet-- Preprocessing\n",
    "with open('python.json','r') as f:\n",
    "    line = f.readline()\n",
    "    tweet = json.loads(line)\n",
    "    print (json.dumps(tweet, indent=3))"
   ]
  },
  {
   "cell_type": "code",
   "execution_count": 24,
   "metadata": {
    "collapsed": false
   },
   "outputs": [
    {
     "data": {
      "text/plain": [
       "['RT',\n",
       " '@marcobonzanini',\n",
       " ':',\n",
       " 'just',\n",
       " 'an',\n",
       " 'example',\n",
       " '!',\n",
       " ':D',\n",
       " 'http://example.com',\n",
       " '#NLP']"
      ]
     },
     "execution_count": 24,
     "metadata": {},
     "output_type": "execute_result"
    }
   ],
   "source": [
    "tweet = 'RT @marcobonzanini: just an example! :D http://example.com #NLP'\n",
    "tk = TweetTokenizer()\n",
    "tk.tokenize(tweet)"
   ]
  },
  {
   "cell_type": "code",
   "execution_count": 49,
   "metadata": {
    "collapsed": false
   },
   "outputs": [
    {
     "name": "stdout",
     "output_type": "stream",
     "text": [
      "['@Evan_McMullin', '@ananavarro', \"Shouldn't\", 'the', 'man', 'elected', 'President', 'care', 'about', 'the', 'United', 'States', 'of', 'America', '?', 'https://t.co/Qr80dG63we']\n",
      "['RT', '@ezlusztig', ':', \"Here's\", 'what', 'I', 'want', 'to', 'know', ':', 'What', 'will', 'they', 'tell', 'him', 'they', 'know', 'about', 'HIS', 'OWN', 'collusion', 'with', 'Russian', 'hackers', '?', 'And', 'is', '…']\n",
      "['LMAOOOOOOOOOOOOOOOOOOOOOOOOOOOOOOOO', 'https://t.co/QOgrC5C35W']\n",
      "['RT', '@NBCNews', ':', 'Ex-CIA', 'director', 'James', 'Woolsey', 'quits', 'Trump', 'transition', 'team', 'https://t.co/9WML9Qlc52', 'https://t.co/4AMK2dSX5U']\n",
      "['Toyota', 'à', 'son', 'tour', 'dans', 'le', 'viseur', 'de', 'Donald', 'Trump', 'https://t.co/Xgq1SnD2nz']\n",
      "['what', 'a', 'dumbass', 'bitch', 'https://t.co/81hYINHmPg']\n",
      "['RT', '@MightyBusterBro', ':', '.', 'HOLLYWOOD', '\"', 'TRUMPS', '\"', 'B', '.', 'L', '.', 'M', '.', 'Democrat', 'Sore', 'Losers', 'vs', 'Trump-Hating', 'Racists', '#BLMKidnapping', '#racism', '#crime', '…']\n",
      "['RT', '@Emy4Trump', ':', 'BREAKING', ':', 'Anti-Trump', 'Thugs', 'Who', 'Tortured', 'Disabled', 'Homeless', 'Man', 'Learn', 'Their', 'Fate', 'https://t.co/Pm8oojp1sr', 'https://t.co/8sE1O9Bb…']\n",
      "['RT', '@ToDropADime2', ':', '#Trump', 'has', 'to', 'face', 'top', 'Intelligence', 'agencies', 'today', '.', 'Not', 'one', 'has', 'any', 'doubt', '#Russia', 'hacked', 'US', '.', 'So', 'U', 'have', 'to', 'ask', 'yourself', ',', 'W', '…']\n",
      "['RT', '@MirEdeC', ':', 'Hay', 'una', 'Marcha', 'de', 'Mujeres', 'convocada', 'para', 'la', 'investidura', 'de', 'Trump', 'ESPERA', 'QUE', 'TENGO', 'EL', 'SÍMBOLO', 'APROPIAO', 'dijo', 'el', 'publi', '…']\n",
      "['\"', 'draining', 'the', 'swamp', '\"', 'includes', 'hiring', 'an', '\"', 'untrustworthy', 'liar', '\"', 'as', 'political', 'advisor', '#MakeAmericaGreatAgain', 'https://t.co/8tC9n2EJSg']\n",
      "['RT', '@nicole_soojung', ':', '.', '@1demerith', 'on', 'being', 'trans', ',', 'and', 'an', 'immigrant', ',', 'under', 'the', 'Trump', 'administration', ':', 'https://t.co/2bMySfIAoE', 'https://t.co/oRIN…']\n",
      "['California', 'se', 'arma', 'con', 'el', 'ex', 'fiscal', 'general', 'de', 'EEUU', 'para', 'su', 'batalla', 'con', 'Trump', 'https://t.co/sk4zwS1XMK', 'https://t.co/TwbQj45sw7']\n",
      "['RT', '@peterdaou', ':', 'Donald', 'Trump', 'said', 'this', 'last', 'year', ':', '“', 'Millions', 'and', 'millions', 'of', 'women', '—', 'cervical', 'cancer', ',', 'breast', 'cancer', '—', 'are', 'helped', 'by', 'Planned', 'P', '…']\n",
      "['RT', '@FoxNews', ':', 'Congress', 'set', 'to', 'certify', 'Electoral', 'College', 'victory', 'for', 'Trump', 'via', '@ChadPergram', 'https://t.co/7AYww88iDl']\n",
      "['Donald', 'Trump', 'Casts', 'Intelligence', 'Aside', 'https://t.co/Fsl3jhAEZa']\n",
      "['RT', '@tribelaw', ':', '1/2', 'Remember', 'Trump', 'falsely', 'claiming', 'he', 'saw', 'Muslims', 'celebrating', 'on', 'Jersey', 'rooftops', 'on', '9/11', '?', 'Now', 'that', 'CIA', 'reports', 'Putin', 'thugs', 'r', '…']\n",
      "['RT', '@KanchanGupta', ':', \"That's\", 'good', 'news', 'for', '#Israel', 'and', 'sets', 'the', 'tone', 'for', 'Trump', 'presidency', '.', 'Tata', ',', 'Obama', '.', 'You', 'will', 'be', 'remembered', 'for', 'all', 'th', '…']\n",
      "['@niallfirth', '@realDonaldTrump', 'Will', 'it', 'have', 'the', 'Trump', 'name', 'emblazoned', 'along', 'it', '?', 'The', 'great', 'wall', 'of', 'Trump']\n",
      "['RT', '@dcexaminer', ':', 'Trump', 'orders', 'Obama-appointed', 'ambassadors', 'to', 'leave', 'posts', 'by', 'inauguration', ':', 'report', 'https://t.co/JRVRHM0o5D', 'https://t.co/SPW994…']\n",
      "['Joe', 'Biden', 'to', 'Trump', ':', '\"', 'Grow', 'up', ',', 'Donald', '.', 'Grow', 'up', '.', 'Time', 'to', 'be', 'an', 'adult', '.', '\"', 'https://t.co/21a0vVrQO9', 'https://t.co/LTvxSnxwXQ']\n",
      "['RT', '@WaladShami', ':', 'White', 'people', 'are', 'so', 'mad', 'at', 'how', 'the', 'white', 'disabled', 'man', 'was', 'tortured', 'in', 'that', 'video', 'but', \"didn't\", 'say', 'shit', 'when', 'Trump', 'moc', '…']\n",
      "['RT', '@pnehlen', ':', 'This', \"isn't\", 'a', 'one-off', '.', 'It', 'is', 'a', 'pattern', 'of', 'black', 'on', 'white', 'racism', 'in', 'Chicago', 'towards', 'Trump', 'supporters', '#BLMKidnapping', 'https://t.c…']\n",
      "['RT', '@SenSanders', ':', 'Mr', '.', 'Trump', 'must', 'make', 'it', 'clear', 'that', 'he', 'will', 'keep', 'his', 'word', 'and', 'veto', 'any', 'legislation', 'that', 'cuts', 'Social', 'Security', ',', 'Medicar', '…']\n",
      "['RT', '@fc495f6a574c40b', ':', '@realDonaldTrump', 'i', 'luv', 'trump', 'like', 'if', 'u', 'agree', '🖒']\n",
      "['RT', '@thehill', ':', 'Biden', 'to', 'Trump', ':', 'Time', 'to', 'grow', 'up', 'and', 'be', 'an', 'adult', 'https://t.co/LQBfg8nvd4', 'https://t.co/d8mru2dLAF']\n",
      "['It', 'is', 'to', 'him', 'https://t.co/guUiVNsz1x']\n",
      "['RT', '@GeorgeTakei', ':', 'Apparently', 'Trump', 'will', 'ask', 'Congress', ',', 'not', 'Mexico', ',', 'to', 'pay', 'for', 'a', 'wall', '.', 'In', 'related', 'news', 'Trump', 'plans', 'to', 'invite', 'Hillary', 'to', 'dinner', '…']\n",
      "['RT', '@Reuters', ':', 'Trump', 'is', 'ordering', 'all', 'ambassadors', 'appointed', 'by', 'Obama', 'to', 'leave', 'their', 'post', 'by', 'inauguration', 'day', ':', '…']\n",
      "['Did', 'IRS', 'Leak', 'Trump', 'Returns', 'To', 'Help', 'Hillary', '?', 'https://t.co/EWkqWLPAQN', 'American', 'Thinker', 'https://t.co/L7h6rlr1le', '#MAGA', 'https://t.co/iuvDpdESZp']\n",
      "['@realDonaldTrump', 'what', 'if', 'Mexico', 'is', 'unhappy', 'with', 'the', 'quality', 'of', 'the', 'work', '?', 'Will', 'they', 'still', 'pay', '?', 'Or', 'pull', 'a', '#trump', '&', 'stiff', 'the', '\"', 'contractor', '\"', '?']\n",
      "['Hillary', 'Clinton', 'asistirá', 'a', 'la', 'investidura', 'de', 'Donald', 'Trump', 'https://t.co/lPlftaEm2G', '-', 'https://t.co/s3WcnATsML']\n",
      "['RT', '@JohnJHarwood', ':', 'Gerson', ':', '\"', 'Trump', '/', 'Palin', '/', 'Hannity', 'embrace', 'of', 'Julian', 'Assange', 'is', 'triumph', 'of', 'political', 'tribalism', 'over', 'every', 'other', 'principle', '\"', 'http', '…']\n",
      "['RT', '@CNN', ':', 'Joe', 'Biden', 'to', 'Trump', ':', '\"', 'Grow', 'up', ',', 'Donald', '.', 'Grow', 'up', '.', 'Time', 'to', 'be', 'an', 'adult', '.', '\"', 'https://t.co/pXPJR0t3GI', 'https://t.co/FbQipCUzeK']\n",
      "['Before', 'his', 'intelligence', 'briefing', ',', 'Trump', 'continues', 'to', 'disparage', 'report', 'on', 'Russian', 'hacking', '.', 'Live', 'updates', 'here', 'https://t.co/IoKjgnva0o']\n",
      "['@IngrahamAngle', '\"', 'threatens', 'Senate-Confirmed', '&', 'critical', '?', '\"', 'Many', 'r', 'jumping', 'onto', 'Trump', 'trains', 'still', 'moving', 'We', 'are', 'CLUEL', '…', 'https://t.co/pDru9LU4AO']\n",
      "['RT', '@Milenio', ':', 'Toyota', 'le', 'responde', 'a', 'Trump', 'y', 'defiende', 'su', 'inversión', 'en', '#México', 'https://t.co/fYqTbQmFlZ', 'https://t.co/EZZTc68r9R']\n",
      "['RT', '@UniteAlbertans', ':', 'Congrats', 'Donald', ',', 'you', 'are', 'seen', 'as', 'a', 'genuine', 'idiot', 'up', 'here', 'in', 'Canada', '🇨', '🇦', 'too', 'https://t.co/Ujk1Bi9nf6', '#usa', '#nyc', '…']\n",
      "['RT', '@NancySinatra', ':', 'He', 'would', 'never', 'support', 'a', 'bigot', '.', 'https://t.co/lVECmwNnDz']\n",
      "['RT', '@JimKilbane', ':', 'Democratic', 'lawmakers', 'considering', 'challenge', 'to', '#Trump', '’', 's', '#ElectoralCollege', 'victory', '-', 'POLITICO', 'https://t.co/IEaOVNrKPh']\n",
      "['RT', '@TeaPainUSA', ':', 'Trumpers', 'now', 'deny', 'that', 'Trump', 'promised', 'to', 'make', 'Mexico', '\"', 'pay', 'for', 'the', 'wall', '.', '\"', 'Share', 'this', 'new', 'technology', 'called', '\"', 'video', '.', '\"', 'https', ':', '…']\n",
      "['‘', 'Never', 'mind', 'Trump', ',', 'the', 'global', 'clean', 'energy', 'transition', 'is', 'racing', 'forward', '’', 'https://t.co/m4tALjM6EF', 'via', '@positivenewsuk']\n",
      "['RT', '@_ImHIGHoffLIFE_', ':', 'Trump', ':', 'Launch', 'the', 'missile', '!', '!', '#NiggerNavy', ':', 'You', 'got', 'missile', 'money', '?']\n",
      "['RT', '@mrlouisdimonda', ':', 'Mdr', 'elle', 'regarde', 'quoi', 'à', 'la', 'télé', '?', '?', '?', 'https://t.co/hAYHledRzH']\n",
      "['Full', 'Speech', ':', 'President-Elect', 'Donald', 'Trump', '“', 'THANK', 'YOU', '”', 'Rally', 'in', 'Cincinnati', ',', 'Ohio', '(', '12-1-', '2016', ')', 'https://t.co/cotcUEulzH']\n",
      "['RT', '@Perry0667', ':', \"I'm\", 'going', 'to', 'ask', 'my', 'doctor', 'if', 'I', 'can', 'get', 'some', 'Botox', 'in', 'my', 'face', ',', 'so', 'I', \"don't\", 'look', 'surprised', 'when', 'Trump', 'blows', 'up', 'the', 'world', '.', '😈']\n",
      "['In', 'case', 'your', 'wondering', 'why', '\"', 'Black', 'Twitter', '\"', 'is', 'trending', '...', '@YahooFinance', '&', '#Trump', \"don't\", 'mix', '.', '#BlackTwitter', '✊', '🏼', '✊', '🏽', '✊', '🏾', '…', 'https://t.co/xMbPtkcnIb']\n",
      "['RT', '@PaulStewartII', ':', '“', 'We', 'can', '’', 't', 'normalize', 'Donald', 'Trump', '—', 'nothing', 'about', 'him', 'is', 'normal', ',', '”', 'Los', 'Angeles', 'Mayor', 'Eric', 'Garcetti', 'said', 'Tuesday', '”', '…']\n",
      "['trump', 'is', 'a', 'lying', 'f', '%', '&', 'k', '!', 'https://t.co/BAITZlS7QM']\n",
      "['RT', '@SamanthaClarkH', ':', '2,000', ',', '000', 'bikers', 'announce', 'their', 'intentions', 'for', 'Trump', '’', 's', 'inauguration', 'to', 'protect', 'him', 'from', 'left', 'wing', 'lunatics', '–', 'YOU', '…', '…']\n",
      "['RT', '@bbcmundo', ':', 'Ford', ',', 'General', 'Motors', ',', 'Toyota', ':', 'por', 'qué', 'Donald', 'Trump', 'es', 'tan', 'hostil', 'con', 'los', 'fabricantes', 'de', 'automóviles', 'https://t.co/qAmiyPifUS']\n",
      "['RT', '@CBSNewYork', ':', 'WATCH', ':', 'Top', 'intel', 'officials', 'head', 'to', 'Trump', 'Tower', 'to', 'brief', 'president-elect', 'on', 'Russian', 'hacking', '.', 'CBS', '2', \"'\", 's', '@BurrellTV', 'repor', '…']\n",
      "[\"I'll\", 'build', 'a', 'wall', 'over', 'every', 'tunnel', 'that', 'has', 'ever', 'been', 'built', 'between', 'two', 'countries', '.', 'https://t.co/uUmDPFBCQ3']\n",
      "['North', \"Korea's\", 'nuclear', 'capability', 'growing', 'every', 'day', ',', 'top', 'US', 'diplomat', '|', 'https://t.co/Ror6cHTIG9', 'MSM', 'worries', 'about', 'Trump', 'look', \"Obama's\", 'policies']\n",
      "['RT', '@Nupe117', ':', '@cspanwj', '@CNN', '@ABC', '@MSNBC', 'Russian', 'Poodle', 'Donnie', 'uh-uh', 'LOL', 'https://t.co/IULRnKffnj']\n",
      "['RT', '@biggsag', ':', 'Yikes', '.', 'https://t.co/yKjenK2IlK']\n",
      "['RT', '@juliehdavis', ':', 'Trump', 'team', 'broke', 'w', 'precedent', '&', 'issued', 'blanket', 'edict', 'denying', 'all', 'Obama', 'political', 'ambassadors', 'extensions', 'post', '-1/20', 'https://t…']\n",
      "['RT', '@TrumpSuperPAC', ':', 'Despite', 'Criticism', 'from', 'White', 'KKK', 'Democrats', ',', 'Historically', 'Black', 'College', 'Confirms', 'Band', 'Will', 'March', 'in', '#TRUMP', 'Inaugural', '!', 'htt', '…']\n",
      "['RT', '@DBloom451', ':', 'Obama', '&', 'Intel', 'agencies', 'ARE', 'LEAKING', 'again', '.', 'Trump', '&', 'Pompeo', 'shd', 'clean', 'the', 'CIA', 'out', '!', 'Place', 'is', 'full', 'of', 'Evan', 'McMuffins', '.', 'No', '…']\n",
      "['@CNN', 'President-elect', 'Trump', 'to', 'Vice', 'President', 'Biden', ':', \"'\", 'Go', 'to', 'retire', \"'\"]\n",
      "['RT', '@elderberryplace', ':', '\"', 'Contractors', 'File', 'Liens', 'Against', 'Trump', 'D', '.', 'C', '.', 'Hotel', ',', 'Claiming', 'They', 'Were', 'Stiffed', 'Out', 'Of', '$', '5M', '\"', '-', 'https://t.co/X4IbnkXNEW']\n",
      "['RT', '@foxandfriends', ':', 'Politics', 'as', 'usual', '?', 'President-elect', 'Trump', 'sounds', 'off', 'after', 'intel', 'report', 'leaked', 'to', 'mainstream', 'media', 'https://t.co/FvJxgMEUFm']\n",
      "['RT', '@Reuters', ':', 'As', 'Trump', 'targets', 'Toyota', 'over', 'Mexico', ',', 'Nissan', 'faces', 'bigger', 'risk', 'https://t.co/aIYKrLTEc5']\n",
      "['As', 'Trump', 'targets', 'Toyota', 'over', 'Mexico', ',', 'Nissan', 'faces', 'bigger', 'risk', '–', 'Channel', 'NewsAsia', 'https://t.co/YFxCdDzTrc']\n",
      "['@JohnBrennan', '@CIA', 'is', 'Top', 'Muslim', 'Brotherhood', 'Opretive', '@foxandfriends', '@OAN', 'https://t.co/gZ4oDeX9C5']\n",
      "['Biden', 'tells', 'Trump', 'to', \"'\", 'grow', 'up', \"'\", 'over', 'attacks', 'on', 'US', 'intelligence', 'https://t.co/bFf6mZxtFi', 'via', '@ABCNews', 'Well', 'said', '.', '#auspol', '#TrumpFool']\n",
      "['RT', '@funder', ':', 'Docs', ':', 'Trump', '&', 'Roger', 'Stone', 'paid', '$', '250,000', 'fine', 'for', 'BREAKING', 'LOBBYING', 'LAWS', 'in', '2000', '#draintheswamp', '#TrumpLeaks', '…']\n",
      "['RT', '@JSavoly', ':', 'TRAITOR', 'Trump', 'vows', 'to', 'gut', 'the', 'CIA', ',', 'presumably', 'so', 'it', \"can't\", 'further', 'expose', 'his', 'Russia', 'ties', '#TraitorInChiefTrump', 'https://t.co/hCV…']\n",
      "['RT', '@YannMerkado', ':', 'Trump', 'secoue', 'le', 'débat', 'sur', 'l', '’', 'islam', 'https://t.co/8EosaMPKW8', 'via', '@f_desouche']\n",
      "['RT', '@Reuters', ':', 'Trump', 'is', 'ordering', 'all', 'ambassadors', 'appointed', 'by', 'Obama', 'to', 'leave', 'their', 'post', 'by', 'inauguration', 'day', ':', '…']\n",
      "['RT', '@seanhannity', ':', 'Trump', 'is', 'not', 'backing', 'down', 'after', 'the', 'Dems', 'use', 'scare', 'tactics', 'over', 'Obamacare', '…', '@AriFleischer', ',', '@Austan_Goolsbee', '&', '@MichaelCohen', '…']\n",
      "['RT', '@sarahkendzior', ':', 'Oh', 'sure', '.', 'Gonna', 'take', 'some', 'Trump', 'University', 'courses', 'and', 'eat', 'some', 'Trump', 'steaks', 'and', 'think', 'that', 'one', 'over', 'https://t.co/PJpmREl…']\n",
      "['RT', '@CraigCo62', ':', 'What', 'say', 'you', 'now', 'Traitor', 'Trump', '?', '?', 'U', '.', 'S', '.', 'intel', 'report', 'identifies', 'Russians', 'who', 'gave', 'emails', 'to', 'WikiLeaks', '-', 'officials', 'https://t.co/…']\n",
      "['The', 'GOP', 'has', 'a', 'plan', 'to', 'keep', 'you', 'from', 'learning', 'about', \"Trump's\", 'Cabinet', 'picks', 'https://t.co/Ch8AKwB1LU', 'via', '@HuffPostPol']\n",
      "['RT', '@InfobaeEEUU', ':', 'Duro', 'ataque', 'del', 'vicepresidente', 'de', 'Estados', 'Unidos', 'a', 'Trump', 'por', 'los', 'hackeos', 'rusos', ':', '“', 'Madura', ',', 'Donald', ',', 'madura', '\"', '…']\n",
      "['China', 'reclama', 'a', 'Trump', 'que', 'deje', 'de', 'gobernar', 'a', 'través', 'de', 'Twitter', 'https://t.co/N5iiyl5Wj3']\n",
      "['@Reuters', 'Putin', 'accomplished', 'his', 'mission', ':', 'divide', 'America', 'through', 'Trump', '.', 'Congratulations', 'Trump', 'Comrades', '!']\n",
      "['RT', '@CNNPolitics', ':', 'BREAKING', ':', 'Trump', 'defends', 'plans', 'for', 'Congress', 'to', 'pay', 'for', 'a', 'border', 'wall', ',', 'saying', 'Mexico', 'will', 'reimburse', 'US', 'taxpayers', 'https://t.c…']\n",
      "['Preparing', 'for', 'President', 'Trump', ':', 'A', '10', '-', 'Point', 'Action', 'Plan', 'https://t.co/LMaFwX0xo5']\n",
      "['RT', '@joshgremillion', ':', 'Questioning', 'if', 'this', 'is', 'a', '\"', 'hate', 'crime', '.', '\"', 'Of', 'course', 'it', 'is', '!', '!', 'BLM', 'thugs', 'are', 'torturing', 'this', 'disabled', 'Trump', 'supporter', '.', 'Def', '…']\n",
      "['As', 'Trump', 'targets', 'Toyota', 'over', 'Mexico', ',', 'Nissan', 'faces', 'bigger', 'risk', '–', 'Channel', 'NewsAsia', 'https://t.co/oZFYTSbDfm']\n",
      "['RT', '@Perry0667', ':', \"I'm\", 'going', 'to', 'ask', 'my', 'doctor', 'if', 'I', 'can', 'get', 'some', 'Botox', 'in', 'my', 'face', ',', 'so', 'I', \"don't\", 'look', 'surprised', 'when', 'Trump', 'blows', 'up', 'the', 'world', '.', '😈']\n",
      "['RT', '@TechnicallyRon', ':', \"Trump's\", 'twitter', 'feed', 'when', 'the', 'inevitable', 'alien', 'invasion', 'of', 'our', 'planet', 'occurs', 'https://t.co/rqzwBrAwTl']\n",
      "['Pls', 'Share', '♦', '#TrumpTrain', '#MAGA', '#draintheswamp', '#AmericaFirst', '#mothers', '#women', '#Trump', '#PresidentElectTrump', '…', 'https://t.co/O3Otdd1dyn']\n",
      "['RT', '@tauss', ':', '\"', 'Überfall', 'auf', 'die', 'Krim', '\"', '...', '😂', '😂', '😂', 'Wie', 'weltabgewandt', 'dürfen', '@fr', 'Schreiber', 'sein', '?', 'https://t.co/IlZhvZhR17']\n",
      "['RT', '@MarcusC22973194', ':', 'He', 'cant', 'never', 'ever', 'tell', 'the', 'truth', 'https://t.co/C2xhnO2mx8']\n",
      "['Výraz', '\"', 'dishonest', 'media', '\"', ',', 'který', 'používá', 'nastupující', 'prezident', 'USA', 'Donald', 'Trump', ',', 'je', 'mimořádně', 'trefný', '.', 'Co', 'na', 'to', 'ČÚTI', '?']\n",
      "['RT', '@RichardWeaving', ':', 'Kevin', 'Jackson', ':', \"Dem's\", 'love', 'their', 'hate', ',', 'they', 'create', 'HATE', 'GROUPS', 'like', 'BLM', 'and', 'bring', 'terrorists', 'in', 'our', 'midst', '.', 'And', 'they', '…']\n",
      "['RT', '@Perry0667', ':', \"I'm\", 'going', 'to', 'ask', 'my', 'doctor', 'if', 'I', 'can', 'get', 'some', 'Botox', 'in', 'my', 'face', ',', 'so', 'I', \"don't\", 'look', 'surprised', 'when', 'Trump', 'blows', 'up', 'the', 'world', '.', '😈']\n",
      "['@IanDunt', 'Even', 'if', 'it', \"doesn't\", 'make', 'sense', ',', 'like', 'Trump', 'and', 'Farage', 'attacking', 'all', 'media', 'despite', 'receiving', 'fair', 'amounts', 'of', 'favourable', 'press', '.']\n",
      "['RT', '@DebAlwaystrump', ':', 'OBSTRUCTIONIST', 'HEAD', 'CLOWN', 'SCHUMER', 'Schumer', '2', 'Trump', 'You', 'better', 'do', 'what', 'Democrats', 'want', 'or', 'else', '😠', 'Trump', '2', 'Schumer', 'NO', '!', '!', '…']\n",
      "['Spank', 'Trump', ',', 'break', 'his', 'fingers', '&', 'put', 'him', '2', 'bed', '@KellyannePolls', '.', 'U', 'naive', '@realDonaldTrump', 'voters', 'feel', 'ignornt', '?', 'Hw', 'long', 'wil', 'U', 'kep', 'followin', 'him']\n",
      "['Trump', 'keeps', 'tweeting', 'criticism', 'of', 'intel', 'community', 'https://t.co/pYzS2pc18n']\n",
      "['@FoxNews', '@realDonaldTrump', '@TuckerCarlson', '@seanhannity', 'As', 'Obama', 'would', 'say', '\"', 'elections', 'have', 'consequences', ',', 'we', 'won', '!', '\"', '…', 'https://t.co/PljgHvMSPH']\n",
      "['The', 'only', 'time', 'the', 'president', 'of', 'the', 'United', 'States', 'should', 'use', 'the', 'word', \"'\", 'hotter', \"'\", 'is', 'to', 'take', 'about', 'climate', 'change', '.', 'https://t.co/2e5LJbiu9V']\n",
      "['RT', '@IOL', ':', 'Toyota', 'stocks', 'tumble', 'after', 'Trump', 'criticism', 'https://t.co/4xGpQx7ocb', 'via', '@busrep']\n",
      "['RT', '@IRCT', ':', 'Our', 'SG', '@victor_madrigal', '&', 'several', 'IRCT', 'members', 'speak', 'about', 'the', 'dangerous', 'influence', \"Trump's\", 'words', 'on', 'reinstating', 'tor', '…']\n",
      "['RT', '@Perry0667', ':', \"I'm\", 'going', 'to', 'ask', 'my', 'doctor', 'if', 'I', 'can', 'get', 'some', 'Botox', 'in', 'my', 'face', ',', 'so', 'I', \"don't\", 'look', 'surprised', 'when', 'Trump', 'blows', 'up', 'the', 'world', '.', '😈']\n",
      "['RT', '@immigrant4trump', ':', 'WikiLeaks', 'Offers', '$', '20,000', 'Reward', 'For', 'Information', 'On', 'Obama', 'Officials', 'Destroying', 'Documents', '#Maga', '#Trump', 'https://t.co/8TnH…']\n",
      "['RT', '@ditzkoff', ':', 'This', 'is', 'a', 'weird', 'way', 'of', 'saying', '“', 'President-elect', 'breaks', 'fundamental', 'campaign', 'promise', '”', 'https://t.co/e9XtUrl6Si']\n",
      "['RT', '@NancySinatra', ':', 'He', 'would', 'never', 'support', 'a', 'bigot', '.', 'https://t.co/lVECmwNnDz']\n",
      "['RT', '@Reuters', ':', 'As', 'Trump', 'targets', 'Toyota', 'over', 'Mexico', ',', 'Nissan', 'faces', 'bigger', 'risk', 'https://t.co/aIYKrLTEc5']\n",
      "['RT', '@DBloom451', ':', 'Obama', '&', 'Intel', 'agencies', 'ARE', 'LEAKING', 'again', '.', 'Trump', '&', 'Pompeo', 'shd', 'clean', 'the', 'CIA', 'out', '!', 'Place', 'is', 'full', 'of', 'Evan', 'McMuffins', '.', 'No', '…']\n",
      "['RT', '@usinenouvelle', ':', 'Renault-Nissan', 's', '’', 'adaptera', 'aux', 'exigences', 'de', 'Trump', '-', 'Lors', 'd', '’', 'une', 'conférence', 'de', 'presse', 'au', 'CES', 'de', 'Las', 'Vegas', ',', 'Carlos', '...', 'https', '…']\n",
      "['RT', '@DrMartyFox', ':', 'Madison', 'Federalist', '57', 'Congress', 'Should', 'NOT', 'Be', 'Above', 'The', 'Law', '#Trump', '#Obamacare', 'Quick', 'Fix', '▶', '️', 'Revoke', 'Congress', \"'\", 'Exempt', '…']\n",
      "['Donald', 'Trump', 'and', 'his', 'firms', '‘', 'owe', '$', '1BILLION', 'to', '150', 'companies', '’', 'sparking', 'conflict', 'of', 'interest', 'fears', '…', 'https://t.co/lDIAOfaTh7']\n",
      "['RT', '@Perry0667', ':', \"I'm\", 'going', 'to', 'ask', 'my', 'doctor', 'if', 'I', 'can', 'get', 'some', 'Botox', 'in', 'my', 'face', ',', 'so', 'I', \"don't\", 'look', 'surprised', 'when', 'Trump', 'blows', 'up', 'the', 'world', '.', '😈']\n",
      "['Trump', ':', '#Obamacare', 'en', 'başından', 'beri', 'sadece', 'bir', 'yalandı', '|', 'Eurasia', 'Diary', 'https://t.co/4MsqHlCebA', 'via', '@EurasiaTurk']\n",
      "['RT', '@markmobility', ':', 'Trump', 'Erasing', \"Obama's\", 'Policies', 'at', 'his', 'Peril', '.', 'But', 'He', \"Can't\", 'Erase', 'the', 'Man', '-', '@nytegan', 'https://t.co/Q1MZISbmLh', 'https://t.co/b…']\n",
      "['RT', '@brianefallon', ':', 'You', 'routinely', 'treated', 'leaked', 'reports', 'abt', 'Clinton', 'as', 'fact', '.', 'Now', 'bad', 'report', 'for', 'Trump', 'emerges', '&', 'your', 'concern', 'is', 'leaks', '.', 'https', '…']\n",
      "['RT', '@TIME', ':', 'Donald', 'Trump', 'is', 'about', 'to', 'get', 'a', 'classified', 'report', 'on', \"Russia's\", 'election', 'hacking', 'https://t.co/Ukj9SQx5uj']\n",
      "['@caioblinder', 'mas', 'Trump', 'nesta', 'notícia', ',', 'como', 'disse', 'é', 'irrelevante', ',', 'a', 'meu', 'ver', '.']\n",
      "['RT', '@ShontiMF', ':', \"Y'all\", 'gon', 'pass', 'out', '&', 'wake', 'up', 'on', 'a', 'boat', '.', 'https://t.co/hO9yu4pkWa']\n",
      "['RT', '@OutFrontCNN', ':', '\"', 'I', \"didn't\", 'want', 'to', 'fly', 'under', 'false', 'colors', '\"', '-', 'James', 'Woolsey', 'on', 'decision', 'to', 'brand', 'himself', 'as', 'a', '\"', 'former', '\"', '#Trump', 'adviser', 'https', ':', '…']\n",
      "['Per', 'le', 'notizie', 'economiche', 'non', \"c'è\", 'più', 'bisogno', 'di', '#Bloomberg', '#DowJones', 'o', '#Reuters', 'basta', 'seguire', 'su', 'TW', 'il', 'Presidente', '#Trump', '🇺', '🇸', '.', 'oooh', 'yes', '😆']\n",
      "['RT', '@Perry0667', ':', \"I'm\", 'going', 'to', 'ask', 'my', 'doctor', 'if', 'I', 'can', 'get', 'some', 'Botox', 'in', 'my', 'face', ',', 'so', 'I', \"don't\", 'look', 'surprised', 'when', 'Trump', 'blows', 'up', 'the', 'world', '.', '😈']\n",
      "['RT', '@rollsusa', ':', 'Corrupt', 'Dirty', '&', 'Stupid', 'Schumer', 'just', 'said', 'the', 'hell', 'with', 'Americans', \"it's\", 'either', 'the', 'Lying', 'Democrat', 'way', 'or', 'nothing', '.', 'The', '…']\n",
      "['RT', '@kurteichenwald', ':', 'CNN', 'reporting', 'US', 'intel', 'found', 'info', 'from', 'Russians', 'given', 'to', 'Wikileaks', 'through', 'cutouts', '.', 'Which', 'I', 'reported', 'months', 'ago', '.', 'https', ':', '…']\n",
      "['RT', '@twistedblaster', ':', 'Sign', 'to', 'stand', 'w', '/', '@SenWarren', ':', 'Tell', 'Congress', 'to', 'make', 'Trump', 'disclose', 'and', 'divest', 'https://t.co/cE8If35lbi', 'via', '@CREDOMobile', '#', '…']\n",
      "['RT', '@kylegriffin1', ':', \"Here's\", 'the', 'version', 'of', 'the', 'tweet', 'Trump', 'sent', 'out', 'and', 'then', 'quickly', 'deleted', '—', 'https://t.co/cdVU1iS8dB']\n",
      "['Unfortunately', ',', 'probably', 'no', '.', 'https://t.co/Y5jm9W5Z85']\n",
      "['@CNN', 'this', 'coming', 'from', 'a', 'man', 'who', 'wanted', 'to', 'take', '#Trump', 'behind', 'the', 'playground', 'and', 'punch', 'him', '.', '#MAGA']\n",
      "['RT', '@iAnkurSingh', ':', 'Breaking', ':', 'Hillary', 'Clinton', 'to', 'be', 'next', 'President', 'of', 'USA', 'after', 'Mamta', 'Banerjee', 'rejects', \"Trump's\", 'election', 'win', '.']\n",
      "['[', 'NU', 'Geld', ']', 'Regering', 'Japan', 'verdedigt', 'Toyota', 'na', 'dreigementen', 'Trump', '-', 'https://t.co/EK9JsgEhnM', '#nieuws', '#geld']\n",
      "['RT', '@prchovanec', ':', 'As', 'I', 'said', 'earlier', 'today', ',', 'Team', 'Trump', 'is', 'on', 'collision', 'course', 'with', 'WTO', '.', 'The', 'implications', 'of', 'US', 'quitting', 'WTO', 'would', 'be', 'h', '…']\n",
      "['Britain', '’', 's', 'Theresa', 'May', 'Plans', 'to', 'Visit', 'Donald', 'Trump', 'in', 'Spring', 'https://t.co/MEV4d8JMiV', 'via', '@skinnergj']\n",
      "['RT', '@carolina_rocha_', ':', 'Ya', 'entrados', 'en', 'el', '¿', 'y', 'qué', 'hubieran', 'hecho', 'ustedes', '?', '¿', 'Podemos', 'opinar', 'sobre', 'Trump', '?', 'Ah', 'no', ',', 'eso', 'cae', 'en', 'el', 'terreno', 'de', \"'\", 'dime', 'qu', '…']\n",
      "['@ArnoldFosho', 'https://t.co/OyzRnwVDBB']\n",
      "['RT', '@ConversaAfiada', ':', 'Dória', 'já', 'construiu', 'o', 'muro', 'do', 'Trump', '!', 'Leia', 'no', 'Conversa', 'Afiada', ':', 'https://t.co/OdbVdpaqJA', 'https://t.co/3sioqQaqYV']\n",
      "['Finally', 'grownup', 'bipartisan', 'effort', '2', 'seek', 'facts', '!', 'Why', 'Trump', 'is', 'wrong', 'to', 'target', 'the', 'US', 'intelligence', 'commun', 'https://t.co/rpxGAzgDb9', 'via', '@nypost']\n",
      "['@davidhfeller', '@MakeWayForTay', '@realDonaldTrump', 'Trump', ',', 'you', 'are', 'such', 'a', 'Dumb', 'Ass', ',', 'grow', 'up', 'and', 'stop', 'governing', 'by', 'Tweet']\n",
      "['@WLKY', '@WLKY', 'This', 'tweet', 'says', 'Trump', 'tweeted', 'a', 'slur', '.', 'No', '.', 'Yahoo', 'posted', 'a', 'headline', 'with', 'a', 'typo', 'on', 'an', 'article', 'about', 'Trump', '.', 'Not', 'the', 'same', 'thing', '.']\n",
      "['@MSNBC', 'WHY', \"HASN'T\", 'ANYONE', 'NOTICED', 'THE', 'DAY', 'OF', 'THE', 'ELECTION', 'ABOUT', '8', 'PM', 'WHEN', 'TRUMP', 'SAID', 'HE', 'KNOW', 'ALREADY', 'BY', '4', 'PM', 'HE', 'WAS', 'GOING', 'TO', 'WIN', '..']\n",
      "['President', 'Trump', 'Exposes', 'The', 'Satanic', 'Illuminati', 'New', 'World', 'Order', '!', '!', '2016', 'https://t.co/XaX7UUXuc2', '@realDonaldTrump', '-', \"IT'S\", 'TIME', '.']\n",
      "['Former', 'CIA', 'chief', 'cuts', 'ties', 'with', 'Trump', 'https://t.co/Z2ZWs82hkK']\n",
      "['RT', '@dcexaminer', ':', 'JUST', 'IN', ':', 'Trump', 'orders', 'Obama-appointed', 'ambassadors', 'to', 'leave', 'posts', 'by', 'inauguration', ':', 'report', 'https://t.co/jtrK52DTtz', 'https://t.…']\n",
      "['RT', '@neilpX', ':', 'Everyone', 'said', 'that', 'Trump', 'would', 'pivot', 'from', 'his', 'priggish', 'behavior', 'at', 'some', 'point', '.', 'He', 'has', '.', 'He', '’', 's', 'now', 'even', 'more', 'priggish', '.', 'PBO', 'will', 'b', '…']\n",
      "['RT', '@mehdirhasan', ':', 'Every', 'journo', 'who', 'obsessed', 'over', 'Clinton', 'Foundation', 'but', \"doesn't\", 'obsess', 'over', 'this', 'should', 'hang', 'their', 'heads', 'in', 'shame', '...', 'https', ':/', '…']\n",
      "['RT', '@NewYorkPhotoGal', ':', 'Dear', '@CNN', '@FOXNEWS', '@MSNBC', ':', 'You', 'made', 'Donald', 'Trump', 'happen', '.', 'Blood', 'is', 'on', 'your', 'hands', '.', 'https://t.co/eWAo5z6OuR', 'via', '@dailynew', '…']\n",
      "['RT', '@traytrayolay', ':', 'trump', ':', '\"', \"we're\", 'sending', 'our', 'battleships', 'to', 'russia', '\"', '#niggernavy', ':', '\"', 'who', 'all', 'over', 'there', '\"']\n",
      "['RT', '@markberman', ':', 'Wonder', 'what', \"they're\", 'gonna', 'talk', 'about', 'at', 'the', 'Trump', 'Tower', 'briefing', 'tomorrow', 'https://t.co/SUoMk8jTbl', 'https://t.co/1I1a5AnROH']\n",
      "['RT', '@AndrewTumilty', ':', 'Trump', \"hasn't\", 'sent', 'a', 'congratulatory', 'tweet', 'to', 'Team', 'USA', 'yet', '.', \"He's\", 'waiting', 'for', 'Putin', 'to', 'write', 'it', 'for', 'him', '.', '#CANvsUSA']\n",
      "['After', '#Trump', ',', 'All', 'are', 'in', 'search', 'of', 'reality', ',', 'while', 'illusions', 'blind', 'politicians', 'worldwide', 'can', 'no', 'longer', 'find', 'it', 'https://t.co/pvlxwB0LGj']\n",
      "['RT', '@TechnicallyRon', ':', \"Trump's\", 'twitter', 'feed', 'when', 'the', 'inevitable', 'alien', 'invasion', 'of', 'our', 'planet', 'occurs', 'https://t.co/rqzwBrAwTl']\n",
      "['RT', '@JimKilbane', ':', 'Democratic', 'lawmakers', 'considering', 'challenge', 'to', '#Trump', '’', 's', '#ElectoralCollege', 'victory', '-', 'POLITICO', 'https://t.co/IEaOVNrKPh']\n",
      "['Ex-CIA', 'Director', 'Leaves', 'Transition', 'Team', 'After', 'Trump', 'Trashes', 'Intelligence', 'Community', 'via', '@politicususa', 'https://t.co/U2vYw3cuLg']\n",
      "['Activistas', 'repartirán', '4.200', 'cigarrillos', 'de', 'marihuana', 'durante', 'posesión', 'de', 'Trump', 'https://t.co/NrAxnVoZGQ', 'https://t.co/I3hJTqMSh4']\n",
      "['RT', '@ScottFeinberg', ':', 'If', 'you', 'or', 'someone', 'you', 'know', 'has', 'knowledge', 'of', 'Trump', 'colluding', 'with', 'Putin', 'on', 'hacking', 'or', 'Assange', 'on', 'leaking', ',', 'you', 'have', '15', 'day', '…']\n",
      "['RT', '@Perry0667', ':', \"I'm\", 'going', 'to', 'ask', 'my', 'doctor', 'if', 'I', 'can', 'get', 'some', 'Botox', 'in', 'my', 'face', ',', 'so', 'I', \"don't\", 'look', 'surprised', 'when', 'Trump', 'blows', 'up', 'the', 'world', '.', '😈']\n",
      "['RT', '@RBReich', ':', 'Trump', 'spouts', 'lies', 'and', \"won't\", 'listen', 'to', 'the', 'truth', '.', 'Some', 'Trump', 'apologists', 'share', 'the', 'same', 'affliction', '.', 'https://t.co/cCnlUioGIB']\n",
      "['RT', '@Perry0667', ':', \"I'm\", 'going', 'to', 'ask', 'my', 'doctor', 'if', 'I', 'can', 'get', 'some', 'Botox', 'in', 'my', 'face', ',', 'so', 'I', \"don't\", 'look', 'surprised', 'when', 'Trump', 'blows', 'up', 'the', 'world', '.', '😈']\n",
      "['RT', '@wikileaks', ':', 'Result', 'of', 'CIA', 'officials', 'secretly', 'feeding', 'press', 'to', 'harm', 'Trump', ':', 'NBC', 'poll', ':', 'CIA', 'net', 'favorability', 'Trump', 'voters', ':', '+', '2', 'Clinton', 'voter', '…']\n",
      "['RT', '@mitchellvii', ':', 'Adviser', ':', 'Donald', 'Trump', 'Already', 'Has', '\"', 'Huge', 'Stack', '\"', 'of', 'Executive', 'Orders', 'Ready', 'To', 'Destroy', \"Obama's\", 'Legacy', 'https://t.co/f5OoHy5DCQ']\n",
      "['RT', '@Reuters', ':', 'Trump', 'is', 'ordering', 'all', 'ambassadors', 'appointed', 'by', 'Obama', 'to', 'leave', 'their', 'post', 'by', 'inauguration', 'day', ':', '…']\n",
      "['RT', '@Perry0667', ':', \"I'm\", 'going', 'to', 'ask', 'my', 'doctor', 'if', 'I', 'can', 'get', 'some', 'Botox', 'in', 'my', 'face', ',', 'so', 'I', \"don't\", 'look', 'surprised', 'when', 'Trump', 'blows', 'up', 'the', 'world', '.', '😈']\n",
      "['RT', '@BrewCitriot', ':', \"There's\", 'yet', 'another', 'vid', 'of', 'Hollywood', 'morons', 'ranting', 'about', 'Trump', '-', 'how', 'many', 'til', 'they', 'realize', 'no', 'one', 'cares', 'what', 'they', '…']\n",
      "['RT', '@_ImHIGHoffLIFE_', ':', 'Trump', ':', 'Launch', 'the', 'missile', '!', '!', '#NiggerNavy', ':', 'You', 'got', 'missile', 'money', '?']\n",
      "['RT', '@Perry0667', ':', \"I'm\", 'going', 'to', 'ask', 'my', 'doctor', 'if', 'I', 'can', 'get', 'some', 'Botox', 'in', 'my', 'face', ',', 'so', 'I', \"don't\", 'look', 'surprised', 'when', 'Trump', 'blows', 'up', 'the', 'world', '.', '😈']\n",
      "['Mahira', 'Khan', ',', '‘', 'Raees', '’', 'and', 'what', '2017', 'could', 'hold', 'for', 'India-Pak', 'ties', ',', '@jomalhotra', 'writes', '.', 'https://t.co/l3E4Wc9UBn', 'https://t.co/lbAlPuMu27']\n",
      "['@DrGCrisp', '@muedes', '@Reuters', '@ReutersTV', 'Trump', 'spiteful', '?', '?', '?', 'Sheesh', '...', 'guess', \"he's\", 'been', 'taking', 'lessons', 'from', 'Obama', '.']\n",
      "['Reporters', 'Obsessively', 'Try', 'to', 'Get', 'McCain', 'to', 'Say', 'Trump', 'Election', 'Was', 'https://t.co/HAcWrxJ59O', 'Via', '@NewsBusters', '#trump', '#election2016']\n",
      "['RT', '@TheDailyEdge', ':', 'Trump', 'started', 'week', 'bragging', 'he', 'knew', 'things', 'others', \"didn't\", ',', 'ends', 'it', 'whining', 'cuz', 'he', \"doesn't\", 'https://t.co/C5hiYnZYHw']\n",
      "['So', 'apparently', 'US', 'tax', 'payers', 'are', 'paying', 'for', 'the', 'wall', '...', '#promisespromises', 'https://t.co/hZ7PvvnD27']\n",
      "['RT', '@kurteichenwald', ':', 'Maybe', 'I', 'should', 'reprint', 'my', 'Russia', 'story', 'from', 'months', 'ago', 'sentence', 'by', 'sentence', 'so', 'I', 'can', 'beat', \"other's\", 'new', '\"', 'exclusives', '.', '\"', 'htt', '…']\n",
      "['RT', '@seanhannity', ':', 'Julian', 'Assange', ':', '“', 'I', 'think', 'that', 'Donald', 'Trump', ',', 'early', 'on', 'in', 'his', 'administration', ',', 'he', 'needs', 'to', 'set', 'a', 'standard', '”', '#Hannity']\n",
      "[\"I'm\", 'here', 'for', 'this', '.', 'Yes', '.', 'https://t.co/i9PjfOWcq3']\n",
      "['Really', '?', 'Bwahahahaha', 'love', 'it', '.', 'Stuff', 'this', 'shit', '.', 'https://t.co/Iq5v48iTIH']\n",
      "['RT', '@joepalojoe', ':', 'Trump', 'Is', 'Laying', 'The', 'Groundwork', 'For', 'His', 'Border', 'Wall', 'Behind', 'The', 'Scenes', 'https://t.co/zZ1m1IxEK3', 'via', '@dailycaller']\n",
      "['\"', 'Trump', '’', 's', 'Twitter', 'Warning', 'to', 'Toyota', 'Unsettles', 'Japanese', 'Carmakers', '\"', 'by', 'MOTOKO', 'RICH', 'via', 'NYT', 'https://t.co/6riB25sHYF']\n",
      "['Spicer', ':', 'Media', 'Freaked', 'Out', 'By', 'Trump', 'Using', 'Twitter', 'to', 'Have', 'a', 'Direct', 'Conversation', 'With', 'Americans', '-', 'Breitbart', '…', 'https://t.co/qlatL8CKFL']\n",
      "['@EP_EEUU', 'When', 'have', 'the', 'Trump', 'family', 'cry', 'that', 'they', 'are', 'poor', '?', 'People', 'complaint', 'that', 'they', 'brag', 'too', 'much.Liberal', 'fools', '!', 'Support', 'your', 'Abuela', '4', 'NY']\n",
      "['Francis', 'Wilkinson', ':', 'Religious', 'left', 'rises', 'against', 'Trump', 'https://t.co/nORPRThbva', '@RandyEdgar1', '@Ed_Achorn', 'https://t.co/rRO6stdFCy']\n",
      "['RT', '@MichaelDelauzon', ':', 'Want', 'to', 'know', 'why', 'John', 'McCain', 'is', 'against', 'Trump', '.', 'A', 'pic', 'is', 'worth', 'a', '1000', 'words', '.', '#GeorgeSoros', 'aka', '#DrEvil', 'https://t.co/rYQ…']\n",
      "['RT', '@KfromTheBoro', ':', 'Trump', ':', 'We', 'gotta', 'go', 'to', 'war', 'Captain', ':', 'You', 'got', 'gas', 'money', '?', '#niggernavy']\n",
      "['RT', '@edmilsonpapo10', ':', 'A', '@folha', 'tá', 'recomendando', 'que', 'Trump', 'vire', 'adulto', '...', 'Mandou', 'ele', 'começar', 'assistindo', 'RedTube', 'https://t.co/cmbIe32z3n']\n",
      "['Sources', ':', 'Trump', 'will', 'ask', 'Congress', ',', 'not', 'Mexico', ',', 'to', 'pay', 'for', 'border', 'wall', 'https://t.co/GelaH5IuD6']\n",
      "['RT', '@NewDay', ':', 'Joe', 'Biden', 'to', 'Trump', ':', '\"', 'Grow', 'up', ',', 'Donald', '\"', 'https://t.co/uOhjc5CrWU', 'https://t.co/3Rz1eZkgBu']\n",
      "['FBI-director', 'Comey', 'to', 'join', 'intelligence', 'officials', 'in', 'today', '’', 's', 'Trump', 'briefing', 'concerning', 'Russian', 'election', 'intervening', ':', 'https://t.co/vC8kmTQS20']\n",
      "['RT', '@UnCiudadanoSP', ':', 'Obama', 'es', 'otro', 'infame', 'aliado', 'del', 'plan', 'para', 'destruir', 'nuestro', 'Occidente', 'cristiano', 'por', 'la', 'invasión', 'musulmana', '.', 'NO', 'LO', 'PER', '…']\n",
      "['Trump', 'is', 'goddammed', 'idiot', 'for', 'passing', 'on', 'intel', 'briefings', '.', \"I'd\", 'ask', 'for', 'extra', 'briefings', ',', 'supplementary', 'materials', ',', 'a', 'CIA', 'expert', 'to', 'tutor', 'me', '!']\n",
      "['RT', '@PSITUD', ':', 'Siiiiiii', 'https://t.co/gVGiQwdARn']\n",
      "['RT', '@Perry0667', ':', \"I'm\", 'going', 'to', 'ask', 'my', 'doctor', 'if', 'I', 'can', 'get', 'some', 'Botox', 'in', 'my', 'face', ',', 'so', 'I', \"don't\", 'look', 'surprised', 'when', 'Trump', 'blows', 'up', 'the', 'world', '.', '😈']\n",
      "['RT', '@Davewellwisher', ':', 'Stanley', 'Black', '&', 'Decker', 'Announce', 'Opening', 'of', 'New', 'U', '.', 'S', '.', 'Plant', 'After', 'Trump', 'White', 'House', 'Win', '-', 'Breitbart', 'https://t.co/5Q0noVFy…']\n",
      "['RT', '@Perry0667', ':', \"I'm\", 'going', 'to', 'ask', 'my', 'doctor', 'if', 'I', 'can', 'get', 'some', 'Botox', 'in', 'my', 'face', ',', 'so', 'I', \"don't\", 'look', 'surprised', 'when', 'Trump', 'blows', 'up', 'the', 'world', '.', '😈']\n",
      "['RT', '@progressivepush', ':', 'Trump', 'will', 'make', 'America', 'Sick', 'Again', '...', 'These', 'numbers', 'on', 'the', 'impact', 'of', 'killing', 'off', 'Obamacare', 'are', 'brutal', '.', 'https://t.co/Iv…']\n",
      "['RT', '@Ausbiz', ':', '@Maleandproud', '@antplant', '@ParkerMolloy', '@realDonaldTrump', 'We', 'should', 'judge', 'Trump', 'on', 'his', 'accomplishments', 'in', 'office', 'not', 'past', 'mistakes', '…']\n",
      "['RT', '@igorvolsky', ':', 'Btw', ',', 'building', \"Trump's\", 'wall', 'is', 'estimated', 'to', 'cost', '~', '$', '25', 'BILLION', '.', 'Then', \"'\", \"we'd\", 'have', 'to', 'spend', 'at', 'least', '$', '750', 'MILLION', 'A', 'YEA', '…']\n",
      "['RT', '@sarahkendzior', ':', 'Oh', 'sure', '.', 'Gonna', 'take', 'some', 'Trump', 'University', 'courses', 'and', 'eat', 'some', 'Trump', 'steaks', 'and', 'think', 'that', 'one', 'over', 'https://t.co/PJpmREl…']\n",
      "['RT', '@gastropoda', ':', 'Regular', 'reminder', ':', '@chefjoseandres', 'is', 'a', 'national', 'hero', '.', 'https://t.co/SWu1RuuosP']\n",
      "['RT', '@AnnCoulter', ':', 'Celeb', 'video', 'asks', 'Congress', 'to', 'make', 'sure', 'Trump', \"doesn't\", 'succeed', '.', 'My', 'video', 'asks', '65', 'mil', 'Americans', 'to', 'make', 'sure', 'their', 'next', 'projec', '…']\n",
      "['RT', '@Perry0667', ':', \"I'm\", 'going', 'to', 'ask', 'my', 'doctor', 'if', 'I', 'can', 'get', 'some', 'Botox', 'in', 'my', 'face', ',', 'so', 'I', \"don't\", 'look', 'surprised', 'when', 'Trump', 'blows', 'up', 'the', 'world', '.', '😈']\n",
      "['RT', '@Perry0667', ':', \"I'm\", 'going', 'to', 'ask', 'my', 'doctor', 'if', 'I', 'can', 'get', 'some', 'Botox', 'in', 'my', 'face', ',', 'so', 'I', \"don't\", 'look', 'surprised', 'when', 'Trump', 'blows', 'up', 'the', 'world', '.', '😈']\n",
      "['RT', '@HardysMedia', ':', 'Watch', ':', 'Charles', 'Barkley', 'wants', 'to', 'remind', 'everyone', 'that', 'Trump', 'is', 'putting', 'that', 'wall', 'up', 'in', 'three', 'weeks', '.', 'https://t.co/ZIo5MlMAAm']\n",
      "['RT', '@immigrant4trump', ':', '.', '@Brunelldonald', 'Discusses', \"GOP's\", 'plan', 'to', 'Repeal', 'and', 'Replace', 'Obamacare', '.', 'Bye', '#Obamacare', '!', '#Maga', '#Trump', 'https://t.co/CdePMX…']\n"
     ]
    }
   ],
   "source": [
    "st = ''\n",
    "with open('python.json','r') as f:\n",
    "    for line in f:\n",
    "        tweet = json.loads(line)\n",
    "        print (tk.tokenize(tweet['text']))\n",
    "        st += ' '.join(tk.tokenize(tweet['text']))"
   ]
  },
  {
   "cell_type": "code",
   "execution_count": 50,
   "metadata": {
    "collapsed": false
   },
   "outputs": [
    {
     "name": "stdout",
     "output_type": "stream",
     "text": [
      "[(':', 178), ('Trump', 143), ('RT', 126), ('.', 107), ('to', 83)]\n"
     ]
    }
   ],
   "source": [
    "#Counting Occurences \n",
    "with open('python.json', 'r') as f:\n",
    "    count_all = Counter()\n",
    "    for line in f:\n",
    "        tweet = json.loads(line)\n",
    "        terms = [term for term in tk.tokenize(tweet['text'])]\n",
    "        count_all.update(terms)\n",
    "    print (count_all.most_common(5))"
   ]
  },
  {
   "cell_type": "code",
   "execution_count": 30,
   "metadata": {
    "collapsed": false
   },
   "outputs": [],
   "source": [
    "\"\"\" Since the above results are not interesting we need to remove stopwords: \"\"\"\n",
    "punctuation = list(string.punctuation)\n",
    "stop = stopwords.words('english') + punctuation + ['RT', 'via', '…', 'I', \"Trump's\",'...','trump','de']\n"
   ]
  },
  {
   "cell_type": "code",
   "execution_count": 51,
   "metadata": {
    "collapsed": false
   },
   "outputs": [
    {
     "name": "stdout",
     "output_type": "stream",
     "text": [
      "[('Trump', 143), ('Donald', 19), ('ask', 18), (\"don't\", 15), ('look', 15), ('get', 15), (\"I'm\", 15), ('face', 15), ('going', 14), ('blows', 14), ('😈', 14), ('@Perry0667', 14), ('surprised', 14), ('world', 14), ('Botox', 14), ('doctor', 14), ('’', 14), ('#Trump', 12), ('Obama', 11), ('Toyota', 10)]\n"
     ]
    }
   ],
   "source": [
    "with open('python.json', 'r') as f:\n",
    "    count_all = Counter()\n",
    "    for line in f:\n",
    "        tweet = json.loads(line)\n",
    "        terms = [term for term in tk.tokenize(tweet['text']) if term not in stop]\n",
    "        count_all.update(terms)\n",
    "    print (count_all.most_common(20))\n",
    "    st += ' '.join(terms)"
   ]
  },
  {
   "cell_type": "code",
   "execution_count": 45,
   "metadata": {
    "collapsed": false
   },
   "outputs": [
    {
     "name": "stdout",
     "output_type": "stream",
     "text": [
      "[('#Trump', 12), ('#MAGA', 3), ('#Obamacare', 3), ('#Maga', 2), ('#NiggerNavy', 2), ('#ElectoralCollege', 2), ('#trump', 2), ('#BLMKidnapping', 2), ('#niggernavy', 2), ('#draintheswamp', 2)]\n"
     ]
    }
   ],
   "source": [
    "with open('python.json', 'r') as f:\n",
    "    count_all = Counter()\n",
    "    for line in f:\n",
    "        tweet = json.loads(line)\n",
    "        terms = [term for term in tk.tokenize(tweet['text']) if term.startswith('#')]\n",
    "        \n",
    "        count_all.update(terms)\n",
    "    print (count_all.most_common(10))"
   ]
  },
  {
   "cell_type": "code",
   "execution_count": null,
   "metadata": {
    "collapsed": false,
    "scrolled": false
   },
   "outputs": [],
   "source": [
    "# lower max_font_size\n",
    "wordcloud = WordCloud(max_font_size=40).generate(st)\n",
    "plt.figure()\n",
    "plt.imshow(wordcloud)\n",
    "plt.axis(\"off\")\n",
    "plt.show()"
   ]
  },
  {
   "cell_type": "code",
   "execution_count": null,
   "metadata": {
    "collapsed": true
   },
   "outputs": [],
   "source": []
  }
 ],
 "metadata": {
  "anaconda-cloud": {},
  "kernelspec": {
   "display_name": "Python [Root]",
   "language": "python",
   "name": "Python [Root]"
  },
  "language_info": {
   "codemirror_mode": {
    "name": "ipython",
    "version": 3
   },
   "file_extension": ".py",
   "mimetype": "text/x-python",
   "name": "python",
   "nbconvert_exporter": "python",
   "pygments_lexer": "ipython3",
   "version": "3.5.2"
  }
 },
 "nbformat": 4,
 "nbformat_minor": 0
}
